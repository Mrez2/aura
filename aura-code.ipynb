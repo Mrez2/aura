{
 "cells": [
  {
   "cell_type": "code",
   "execution_count": 18,
   "id": "b25f5f70",
   "metadata": {},
   "outputs": [
    {
     "name": "stdout",
     "output_type": "stream",
     "text": [
      "🎨 Style Transfer Running!\n",
      "Press keys to change style:\n",
      "1 = Starry Night | 2 = The Wave | 3 = La Muse | 4 = Composition VII\n",
      "q = Quit\n"
     ]
    }
   ],
   "source": [
    "import cv2\n",
    "import numpy as np\n",
    "\n",
    "# Paths to your downloaded models (adjust if needed)\n",
    "models = {\n",
    "    \"starry_night\": \"model/starry_night.t7\",\n",
    "    \"the_wave\": \"model/the_wave.t7\",\n",
    "    \"la_muse\": \"model/la_muse.t7\",\n",
    "    \"composition_vii\": \"model/composition_vii.t7\"\n",
    "}\n",
    "\n",
    "# Load default model (Starry Night)\n",
    "style_name = \"la_muse\"\n",
    "net = cv2.dnn.readNetFromTorch(models[style_name])\n",
    "\n",
    "# Open webcam\n",
    "cap = cv2.VideoCapture(0, cv2.CAP_DSHOW)\n",
    "\n",
    "print(\"🎨 Style Transfer Running!\")\n",
    "print(\"Press keys to change style:\")\n",
    "print(\"1 = Starry Night | 2 = The Wave | 3 = La Muse | 4 = Composition VII\")\n",
    "print(\"q = Quit\")\n",
    "\n",
    "while True:\n",
    "    ret, frame = cap.read()\n",
    "    if not ret:\n",
    "        break\n",
    "\n",
    "    # Prepare input for neural style model\n",
    "    h, w = frame.shape[:2]\n",
    "    inp = cv2.dnn.blobFromImage(frame, 1.0, (w, h),\n",
    "                                (103.939, 116.779, 123.680), \n",
    "                                swapRB=False, crop=False)\n",
    "    net.setInput(inp)\n",
    "    out = net.forward()\n",
    "\n",
    "    # Reconstruct image\n",
    "    out = out.reshape(3, out.shape[2], out.shape[3])\n",
    "    out[0] += 103.939\n",
    "    out[1] += 116.779\n",
    "    out[2] += 123.680\n",
    "    out = out.transpose(1, 2, 0)\n",
    "\n",
    "    # ✅ Prevent overexposure (white screen fix)\n",
    "    out = np.clip(out, 0, 255).astype('uint8')\n",
    "\n",
    "    # Show styled frame\n",
    "    cv2.imshow(\"Neural Style Transfer\", out)\n",
    "\n",
    "    # Handle key inputs\n",
    "    key = cv2.waitKey(1) & 0xFF\n",
    "    if key == ord('1'):\n",
    "        style_name = \"starry_night\"\n",
    "        net = cv2.dnn.readNetFromTorch(models[style_name])\n",
    "        print(\"🎨 Switched to Starry Night\")\n",
    "    elif key == ord('2'):\n",
    "        style_name = \"the_wave\"\n",
    "        net = cv2.dnn.readNetFromTorch(models[style_name])\n",
    "        print(\"🌊 Switched to The Wave\")\n",
    "    elif key == ord('3'):\n",
    "        style_name = \"la_muse\"\n",
    "        net = cv2.dnn.readNetFromTorch(models[style_name])\n",
    "        print(\"🖼️ Switched to La Muse\")\n",
    "    elif key == ord('4'):\n",
    "        style_name = \"composition_vii\"\n",
    "        net = cv2.dnn.readNetFromTorch(models[style_name])\n",
    "        print(\"🎭 Switched to Composition VII\")\n",
    "    elif key == ord('q'):\n",
    "        break\n",
    "\n",
    "cap.release()\n",
    "cv2.destroyAllWindows()\n"
   ]
  }
 ],
 "metadata": {
  "kernelspec": {
   "display_name": "myenv",
   "language": "python",
   "name": "python3"
  },
  "language_info": {
   "codemirror_mode": {
    "name": "ipython",
    "version": 3
   },
   "file_extension": ".py",
   "mimetype": "text/x-python",
   "name": "python",
   "nbconvert_exporter": "python",
   "pygments_lexer": "ipython3",
   "version": "3.11.13"
  }
 },
 "nbformat": 4,
 "nbformat_minor": 5
}
